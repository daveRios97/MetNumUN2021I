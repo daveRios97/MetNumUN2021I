{
  "nbformat": 4,
  "nbformat_minor": 0,
  "metadata": {
    "kernelspec": {
      "display_name": "Python 3",
      "language": "python",
      "name": "python3"
    },
    "language_info": {
      "codemirror_mode": {
        "name": "ipython",
        "version": 3
      },
      "file_extension": ".py",
      "mimetype": "text/x-python",
      "name": "python",
      "nbconvert_exporter": "python",
      "pygments_lexer": "ipython3",
      "version": "3.5.2"
    },
    "colab": {
      "name": "drriosgIntroductionToNumericalAnalysisWeek7InitialValueProblemOrdinaryDifferentialEquations.ipynb",
      "provenance": [],
      "collapsed_sections": []
    }
  },
  "cells": [
    {
      "cell_type": "markdown",
      "metadata": {
        "id": "9TJ1h3abY_Q6"
      },
      "source": [
        "# Initial value problem for ODEs"
      ]
    },
    {
      "cell_type": "markdown",
      "metadata": {
        "id": "n4DDluHMY_Q9"
      },
      "source": [
        "# I. Euler's method for a first order ODE\n",
        "\n",
        "Consider a first order equation\n",
        "\n",
        "$$\n",
        "\\frac{d u}{d t} = \\lambda u\n",
        "$$\n",
        "\n",
        "with the initial condition $u(t=0) = u_0$.\n",
        "\n",
        "Here is a simple illustration of solving this equation with the explicit Euler method."
      ]
    },
    {
      "cell_type": "code",
      "metadata": {
        "collapsed": true,
        "id": "JQ0d1NLbY_Q-"
      },
      "source": [
        "import numpy as np\n",
        "import matplotlib.pyplot as plt"
      ],
      "execution_count": null,
      "outputs": []
    },
    {
      "cell_type": "code",
      "metadata": {
        "collapsed": true,
        "id": "W_A77NqtY_Q_"
      },
      "source": [
        "def euler_solve(lam, u0, T, dt):\n",
        "    \"\"\"Solve $du/dt = \\lambda u$ on $0 < t < T$ with $u(t=0) = u0$ via an explicit Euler method.\"\"\"\n",
        "    num_steps = int(T/dt)\n",
        "    tt = np.arange(num_steps+1)*dt\n",
        "    y = np.empty(num_steps+1)\n",
        "    y[0] = u0\n",
        "    for k in range(num_steps):\n",
        "        y[k+1] = y[k] + dt*lam*y[k]\n",
        "    return tt, y"
      ],
      "execution_count": null,
      "outputs": []
    },
    {
      "cell_type": "code",
      "metadata": {
        "id": "HnNo0lMRY_Q_",
        "colab": {
          "base_uri": "https://localhost:8080/",
          "height": 265
        },
        "outputId": "db9cd41f-74eb-4095-c967-1b890b10abe8"
      },
      "source": [
        "lam = -0.5\n",
        "tt, y = euler_solve(lam, u0=1.0, T=5, dt=0.1)\n",
        "plt.plot(tt, y, 'o--', label='numeric solution')\n",
        "plt.plot(tt, np.exp(lam*tt), '-', lw=2, label='ground truth')\n",
        "plt.legend(loc='best')\n",
        "plt.grid(True)"
      ],
      "execution_count": null,
      "outputs": [
        {
          "output_type": "display_data",
          "data": {
            "image/png": "[encoded data removed]",
            "text/plain": [
              "<Figure size 432x288 with 1 Axes>"
            ]
          },
          "metadata": {
            "tags": [],
            "needs_background": "light"
          }
        }
      ]
    },
    {
      "cell_type": "markdown",
      "metadata": {
        "id": "j2LhDymoY_RA"
      },
      "source": [
        "### Test I.1\n",
        "\n",
        "Test the function above for varying step size $\\tau$ (in the code it's `dt`), including $|\\lambda| \\tau > 1$? \n",
        "\n",
        "(10% of the grade)"
      ]
    },
    {
      "cell_type": "code",
      "metadata": {
        "collapsed": true,
        "id": "Ar5pa3w4Y_RB"
      },
      "source": [
        "# ... ENTER YOUR CODE HERE ..."
      ],
      "execution_count": null,
      "outputs": []
    },
    {
      "cell_type": "code",
      "metadata": {
        "colab": {
          "base_uri": "https://localhost:8080/"
        },
        "id": "76Gf0pwsLMJs",
        "outputId": "a522f425-6391-4418-f07b-1777ca1b5b6f"
      },
      "source": [
        "from sklearn.metrics import mean_absolute_error\n",
        "\n",
        "tao = [4, 3, 2, 1, 1e-1, 1e-2, 1e-3, 1e-4]\n",
        "lam = -0.5\n",
        "for dt in tao:\n",
        "    tt, y = euler_solve(lam, u0=1.0, T=5, dt=dt)\n",
        "    print(\"tao -\", dt, \"MAE -\", mean_absolute_error(np.exp(lam*tt), y))"
      ],
      "execution_count": null,
      "outputs": [
        {
          "output_type": "stream",
          "text": [
            "tao - 4 MAE - 0.5676676416183064\n",
            "tao - 3 MAE - 0.3615650800742149\n",
            "tao - 2 MAE - 0.16773824146935168\n",
            "tao - 1 MAE - 0.07436842381550283\n",
            "tao - 0.1 MAE - 0.007159245952545797\n",
            "tao - 0.01 MAE - 0.0007130252805831737\n",
            "tao - 0.001 MAE - 7.12734787643063e-05\n",
            "tao - 0.0001 MAE - 7.127057334424994e-06\n"
          ],
          "name": "stdout"
        }
      ]
    },
    {
      "cell_type": "markdown",
      "metadata": {
        "id": "70vYYK6OY_RB"
      },
      "source": [
        "### Test I.2\n",
        "\n",
        "Implement a function for solving the same equation, $du/dt = \\lambda u$ using the implicit Euler scheme. Compare the behavior of the implicit and explicit Euler schemes. Discuss.\n",
        "\n",
        "(10% of the grade)"
      ]
    },
    {
      "cell_type": "code",
      "metadata": {
        "collapsed": true,
        "id": "EJpZLD9gY_RC"
      },
      "source": [
        "# ... ENTER YOUR CODE AND DISCUSSION HERE ..."
      ],
      "execution_count": null,
      "outputs": []
    },
    {
      "cell_type": "code",
      "metadata": {
        "id": "9UDj60RnrmRA"
      },
      "source": [
        "import numpy as np\n",
        "import matplotlib.pyplot as plt\n",
        "\n",
        "def implicit_euler_solve(t0, u0, T, dt):\n",
        "  num_steps = int(T/dt)\n",
        "  tt = np.arange(num_steps+1)*dt\n",
        "  y = np.empty(num_steps+1)\n",
        "  y[0] = u0\n",
        "  for k in range(num_steps):\n",
        "      y[k+1] = y[k]/(1-dt*lam)\n",
        "  return tt, y"
      ],
      "execution_count": null,
      "outputs": []
    },
    {
      "cell_type": "code",
      "metadata": {
        "id": "61kcrWQ1x7Sp",
        "colab": {
          "base_uri": "https://localhost:8080/",
          "height": 265
        },
        "outputId": "7a6bbaf9-6ecd-4271-cada-051c844e7dd6"
      },
      "source": [
        "tt_imp, y_imp = implicit_euler_solve(-0.5, 1.0, 5 ,0.1)\n",
        "plt.plot(tt_imp, y_imp, \"r\")\n",
        "plt.plot(tt, y, \"b\")\n",
        "plt.show()\n"
      ],
      "execution_count": null,
      "outputs": [
        {
          "output_type": "display_data",
          "data": {
            "image/png": "[encoded data removed]",
            "text/plain": [
              "<Figure size 432x288 with 1 Axes>"
            ]
          },
          "metadata": {
            "tags": [],
            "needs_background": "light"
          }
        }
      ]
    },
    {
      "cell_type": "markdown",
      "metadata": {
        "id": "8KAKw4EFY_RC"
      },
      "source": [
        "## II. Stiff systems."
      ]
    },
    {
      "cell_type": "markdown",
      "metadata": {
        "id": "VCh41CKFY_RC"
      },
      "source": [
        "Consider a system of two first order equations\n",
        "\n",
        "$$\n",
        "\\frac{d \\mathbf{u} }{d t} = A \\mathbf{u}\n",
        "$$\n",
        "\n",
        "where $\\mathbf{u}$ is a two-dimensional vector, and $A$ is a known constant 2$\\times$2 matrix.\n",
        "\n",
        "Implement a generalization of `euler_solve` routine for solving a system of linear first-order equations with time-independent matrix $A$ using the explicit Euler's method."
      ]
    },
    {
      "cell_type": "code",
      "metadata": {
        "collapsed": true,
        "id": "jv79_YerY_RC"
      },
      "source": [
        "# ... ENTER YOUR CODE HERE ..."
      ],
      "execution_count": null,
      "outputs": []
    },
    {
      "cell_type": "code",
      "metadata": {
        "id": "bN0AkGPtO9Z_"
      },
      "source": [
        "def modified_euler_solve(A, u0, T, dt):\n",
        "  num_steps = int(T/dt)\n",
        "  tt = np.arange(num_steps+1)*dt\n",
        "  y = np.zeros((num_steps+1, u0.shape[0]))\n",
        "  y[0] = u0\n",
        "  for k in range(num_steps):\n",
        "      y[k+1] = y[k] + dt*A@y[k]\n",
        "  return tt, y"
      ],
      "execution_count": null,
      "outputs": []
    },
    {
      "cell_type": "markdown",
      "metadata": {
        "id": "1BIMdetDY_RD"
      },
      "source": [
        "### Test II.1\n",
        "\n",
        "Take \n",
        "$$\n",
        "A = \\begin{bmatrix} -10 & 10 \\\\ 32 & -499 \\end{bmatrix}\n",
        "$$\n",
        "\n",
        "and the initial condition $\\mathbf{u} = (1, 0)^T$.\n",
        "\n",
        "Solve the system using a fixed step size $\\tau=0.01$. Is the explicit Euler's method stable at this value of the step size?\n",
        "\n",
        "Find eigenvalues of $A$ (use `np.linalg.eigvals`) and comment whether the system is stif.\n",
        "\n",
        "(20% of the grade)"
      ]
    },
    {
      "cell_type": "code",
      "metadata": {
        "collapsed": true,
        "id": "nXuXZ8lPY_RD"
      },
      "source": [
        "# ... ENTER YOUR CODE HERE ..."
      ],
      "execution_count": null,
      "outputs": []
    },
    {
      "cell_type": "code",
      "metadata": {
        "colab": {
          "base_uri": "https://localhost:8080/"
        },
        "id": "fNfUAeqPQFGd",
        "outputId": "8869fd94-985b-42e7-d462-1203e6262d37"
      },
      "source": [
        "A = np.array([[-10, 10],[32,-499]])\n",
        "u = np.array([1,0]).T\n",
        "tt, y = modified_euler_solve(A, u, 5, 0.01)\n",
        "print(np.linalg.eigvals(A))"
      ],
      "execution_count": null,
      "outputs": [
        {
          "output_type": "stream",
          "text": [
            "[  -9.34647667 -499.65352333]\n"
          ],
          "name": "stdout"
        }
      ]
    },
    {
      "cell_type": "markdown",
      "metadata": {
        "id": "WZibvFFkY_RD"
      },
      "source": [
        "### Test II.2\n",
        "\n",
        "Implement the $\\textit{implicit}$ Euler's scheme for a system of first-order equations with constant coefficients. Note that at each time step you need to solve a system of linear algebraic equations, use `np.linalg.solve` for that.\n",
        "\n",
        "Use this routine to solve the system from Test II.1 at the same step size $\\tau=0.01$. Compare solutions obtained by an explicit and an implicit Euler's methods.\n",
        "\n",
        "(20% of the grade)"
      ]
    },
    {
      "cell_type": "code",
      "metadata": {
        "collapsed": true,
        "id": "pE70r-RZY_RE"
      },
      "source": [
        "# ... ENTER YOUR CODE HERE ..."
      ],
      "execution_count": null,
      "outputs": []
    },
    {
      "cell_type": "code",
      "metadata": {
        "id": "pExKBPy8RO0F"
      },
      "source": [
        "def modified_implicit_euler_solve(A, u0, T, dt):\n",
        "  num_steps = int(T/dt)\n",
        "  tt = np.arange(num_steps+1)*dt\n",
        "  y = np.zeros((num_steps+1, u0.shape[0]))\n",
        "  y[0] = u0\n",
        "  for k in range(num_steps):\n",
        "      y[k+1] = np.linalg.solve((np.eye(A.shape[0])-dt*A), y[k])\n",
        "  return tt, y"
      ],
      "execution_count": null,
      "outputs": []
    },
    {
      "cell_type": "code",
      "metadata": {
        "id": "DcwpYwrFSPrs"
      },
      "source": [
        "A = np.array([[-10, 10],[32,-499]])\n",
        "u = np.array([1,0]).T\n",
        "tt, y = modified_euler_solve(A, u, 5, 0.01)\n",
        "print(np.linalg.eigvals(A))"
      ],
      "execution_count": null,
      "outputs": []
    },
    {
      "cell_type": "markdown",
      "metadata": {
        "collapsed": true,
        "id": "UH8CUbBYY_RE"
      },
      "source": [
        "# III. Second order ODEs.\n",
        "\n",
        "Consider a second order ODE, which describes a oscillating pendulum\n",
        "\n",
        "$$\n",
        "\\frac{d^2 u}{dt^2} + \\omega^2 u = 0\n",
        "$$\n",
        "\n",
        "Convert this second order ODE into a system of two first order ODEs.\n",
        "\n",
        "### Test III.1 \n",
        "\n",
        "Solve this system of equations using the explicit Euler's method over a time interval which includes at least several periods. We know that the equation of motion conserves energy, so that\n",
        "\n",
        "$$\n",
        "E = \\frac{u'^2}{2} + \\frac{\\omega^2 u^2}{2}\n",
        "$$\n",
        "\n",
        "should remain constant. Plot the dependence of $E$ on time for your numeric solution. Use several values of the time step. Does your discretized scheme conserve energy?\n",
        "\n",
        "(20% of the grade)"
      ]
    },
    {
      "cell_type": "code",
      "metadata": {
        "collapsed": true,
        "id": "EKOhm0YxY_RE"
      },
      "source": [
        "# ... ENTER YOUR CODE HERE ..."
      ],
      "execution_count": null,
      "outputs": []
    },
    {
      "cell_type": "code",
      "metadata": {
        "id": "9ubz8r9GSqWn"
      },
      "source": [
        "def oscilation_solve(w, u0, T, dt):\n",
        "  A = np.array([[0,1],[-w**2,0]])\n",
        "  return modified_euler_solve(A, u0, T, dt)"
      ],
      "execution_count": null,
      "outputs": []
    },
    {
      "cell_type": "code",
      "metadata": {
        "colab": {
          "base_uri": "https://localhost:8080/",
          "height": 265
        },
        "id": "4cPSbEo7TOBm",
        "outputId": "14047ae0-3993-4a40-8d54-8eda290534b3"
      },
      "source": [
        "E = lambda u, du, w: du**2/2 + w**2 + u**2/2\n",
        "\n",
        "u0_osc = np.array([1,1])\n",
        "tt, y = oscilation_solve(1, u0_osc, 7, 0.001)\n",
        "tt_y = E(y[:,0], y[:,1], 1)\n",
        "plt.plot(tt, tt_y)\n",
        "plt.show()"
      ],
      "execution_count": null,
      "outputs": [
        {
          "output_type": "display_data",
          "data": {
            "image/png": "[encoded data removed]",
            "text/plain": [
              "<Figure size 432x288 with 1 Axes>"
            ]
          },
          "metadata": {
            "tags": [],
            "needs_background": "light"
          }
        }
      ]
    },
    {
      "cell_type": "markdown",
      "metadata": {
        "id": "SX3UwD6LY_RE"
      },
      "source": [
        "### Test III.2\n",
        "\n",
        "Implement the 2nd order Runge-Kutta scheme. Use it to solve the same equation with same time steps. Compare solutions produced by the RK method and the Euler's method at the same values of the time step. Check conservation of energy. Discuss.\n",
        "\n",
        "(20% of the grade)"
      ]
    },
    {
      "cell_type": "code",
      "metadata": {
        "collapsed": true,
        "id": "GGgrV-VSY_RF"
      },
      "source": [
        "# ... ENTER YOUR CODE HERE ..."
      ],
      "execution_count": null,
      "outputs": []
    },
    {
      "cell_type": "code",
      "metadata": {
        "id": "rD4T4-6kUqmd"
      },
      "source": [
        "def RK_scheme(A, u0, T, dt):\n",
        "    num_steps = int(T/dt)\n",
        "    tt = np.arange(num_steps+1)*dt\n",
        "    y = np.zeros((num_steps+1, u0.shape[0]))\n",
        "    y[0] = u0\n",
        "    for k in range(num_steps):\n",
        "        a1 = A@y[k]\n",
        "        a2 = A@(y[k]+dt/2*a1)\n",
        "        y[k+1] = dt*a2+y[k]\n",
        "    return tt, y"
      ],
      "execution_count": null,
      "outputs": []
    },
    {
      "cell_type": "code",
      "metadata": {
        "id": "kAvJwcZCVaq9"
      },
      "source": [
        "def oscilation_solve_RK(w, u0, T, dt):\n",
        "    A = np.array([[0, 1], [-w**2, 0]])\n",
        "    return RK_scheme(A, u0, T, dt)"
      ],
      "execution_count": null,
      "outputs": []
    },
    {
      "cell_type": "code",
      "metadata": {
        "colab": {
          "base_uri": "https://localhost:8080/",
          "height": 293
        },
        "id": "tzDlM2zoVhtd",
        "outputId": "5b0d7714-a69f-4fb5-f124-953406f16757"
      },
      "source": [
        "tt, y = oscilation_solve_RK(1, np.array([1,1]), 7, 1e-3)\n",
        "tt_y = E(y[:,0], y[:, 1], 1)\n",
        "plt.plot(tt, tt_y)"
      ],
      "execution_count": null,
      "outputs": [
        {
          "output_type": "execute_result",
          "data": {
            "text/plain": [
              "[<matplotlib.lines.Line2D at 0x7fb8560cd090>]"
            ]
          },
          "metadata": {
            "tags": []
          },
          "execution_count": 33
        },
        {
          "output_type": "display_data",
          "data": {
            "image/png": "[encoded data removed]",
            "text/plain": [
              "<Figure size 432x288 with 1 Axes>"
            ]
          },
          "metadata": {
            "tags": [],
            "needs_background": "light"
          }
        }
      ]
    }
  ]
}