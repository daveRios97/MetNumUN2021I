{
  "nbformat": 4,
  "nbformat_minor": 0,
  "metadata": {
    "kernelspec": {
      "display_name": "Python 3",
      "language": "python",
      "name": "python3"
    },
    "language_info": {
      "codemirror_mode": {
        "name": "ipython",
        "version": 3
      },
      "file_extension": ".py",
      "mimetype": "text/x-python",
      "name": "python",
      "nbconvert_exporter": "python",
      "pygments_lexer": "ipython3",
      "version": "3.5.2"
    },
    "colab": {
      "name": "week_5_intep_approc.ipynb",
      "provenance": [],
      "collapsed_sections": []
    }
  },
  "cells": [
    {
      "cell_type": "markdown",
      "metadata": {
        "id": "gz90WhUip4eY"
      },
      "source": [
        "# I. Linear least squares approximation"
      ]
    },
    {
      "cell_type": "markdown",
      "metadata": {
        "id": "1c12B__fp4ec"
      },
      "source": [
        "Consider a function $y = f(x)$ which is defined by a set of values $y_0, y_1, \\cdots, y_n$ at points $x_0, x_1, \\cdots, x_n$."
      ]
    },
    {
      "cell_type": "code",
      "metadata": {
        "collapsed": true,
        "id": "d1GOWVknp4ec"
      },
      "source": [
        "x = [-1, -0.7, -0.43, -0.14, -0.14, 0.43, 0.71, 1, 1.29, 1.57, 1.86, 2.14, 2.43, 2.71, 3]\n",
        "y = [-2.25, -0.77, 0.21, 0.44, 0.64, 0.03, -0.22, -0.84, -1.2, -1.03, -0.37, 0.61, 2.67, 5.04, 8.90]"
      ],
      "execution_count": 1,
      "outputs": []
    },
    {
      "cell_type": "markdown",
      "metadata": {
        "id": "nhuSpMkZp4ed"
      },
      "source": [
        "### I.I. Find a best fit polynomial\n",
        "\n",
        "$$\n",
        "P_m(x) = a_0 + a_1 x + \\cdots + a_m x^m\n",
        "$$\n",
        "\n",
        "using the linear least squares approach. To this end\n",
        "\n",
        "1. implement a function which constructs the design matrix using $1, x, \\cdots, x^m$ as the basis functions.\n",
        "\n",
        "2. construct explicitly the normal system of equations of the linear least squares problem at fixed $m$.\n",
        "\n",
        "3. Solve the normal equations to find the coefficients of $P_m(x)$ for $m = 0, 1, 2, \\dots$. For the linear algebra problem, you can either use library functions (`numpy.linalg.solve`) or your LU factorization code from week 1.\n",
        "\n",
        "(20% of the total grade)"
      ]
    },
    {
      "cell_type": "code",
      "metadata": {
        "collapsed": true,
        "id": "Cd7NQ7Hlp4ee",
        "colab": {
          "base_uri": "https://localhost:8080/"
        },
        "outputId": "f590dc16-228a-4b3d-e284-1ebbd0c3ac54"
      },
      "source": [
        "# ... ENTER YOUR CODE HERE\n",
        "\n",
        "import numpy as np\n",
        "import matplotlib.pyplot as plt\n",
        "\n",
        "#Pasamos los datos a Array de Numpy\n",
        "X, Y = np.array(x), np.array(y)\n",
        "\n",
        "#Creamos la matriz de coeficientes\n",
        "Xlen = len(X)\n",
        "unos = np.ones(Xlen)\n",
        "A = np.c_[unos, X]\n",
        "\n",
        "#Resolvemos el sistema At * A * x = At  * y (Sistema lineal de la forma Ax = b)\n",
        "AtA = np.transpose(A) @ A\n",
        "AtY = np.transpose(A) @ Y\n",
        "\n",
        "#Resolvemos el sistema lineal\n",
        "s = np.linalg.solve(AtA, AtY)\n",
        "\n",
        "#Nos da como solucion s = [b, a]\n",
        "p = np.poly1d([s[1], s[0]])\n",
        "\n",
        "print(\" mx + b\")\n",
        "print(p)"
      ],
      "execution_count": 2,
      "outputs": [
        {
          "output_type": "stream",
          "text": [
            " mx + b\n",
            " \n",
            "1.465 x - 0.648\n"
          ],
          "name": "stdout"
        }
      ]
    },
    {
      "cell_type": "markdown",
      "metadata": {
        "id": "ApRU73YYp4ee"
      },
      "source": [
        "### I.II \n",
        "\n",
        "To find the optimal value of m, use the following criterion: take $m=0, 1, 2, \\dots$, for each value of $m$ compute \n",
        "\n",
        "$$\n",
        "\\sigma_m^2 = \\frac{1}{n - m} \\sum_{k=0}^n \\left( P_m(x_k) - y_k \\right)^2\n",
        "$$\n",
        "\n",
        "And take the value of $m$, at which $\\sigma_m$ stabilizes or starts increasing.\n",
        "\n",
        "(20% of the total grade)"
      ]
    },
    {
      "cell_type": "code",
      "metadata": {
        "collapsed": true,
        "id": "AH-RGqUWp4ee"
      },
      "source": [
        "# ... ENTER YOUR CODE HERE ..."
      ],
      "execution_count": null,
      "outputs": []
    },
    {
      "cell_type": "markdown",
      "metadata": {
        "id": "RF2eCW-xp4ef"
      },
      "source": [
        "Plot your polynomials $P_m(x)$ on one plot, together with the datapoints. Visually compare best-fit polynomials of different degrees. Is the visual comparison consistent with the optimal value of $m$?"
      ]
    },
    {
      "cell_type": "code",
      "metadata": {
        "collapsed": true,
        "id": "MaKdPxuYp4ef",
        "colab": {
          "base_uri": "https://localhost:8080/",
          "height": 265
        },
        "outputId": "c36762b4-b2e6-4556-ccf9-0cec6e075364"
      },
      "source": [
        "# ... ENTER YOUR CODE HERE\n",
        "\n",
        "#Imprimimos\n",
        "plt.plot(X, Y, \"or\")\n",
        "x_plot = np.linspace(-1,3,100)\n",
        "plt.plot(x_plot, p(x_plot))\n",
        "plt.show()"
      ],
      "execution_count": 3,
      "outputs": [
        {
          "output_type": "display_data",
          "data": {
            "image/png": "[encoded data removed]",
            "text/plain": [
              "<Figure size 432x288 with 1 Axes>"
            ]
          },
          "metadata": {
            "tags": [],
            "needs_background": "light"
          }
        }
      ]
    },
    {
      "cell_type": "markdown",
      "metadata": {
        "id": "lHbN3uYFp4ef"
      },
      "source": [
        "### I.III. Linear least-squares using the QR factorization.\n",
        "\n",
        "For the optimal value of $m$ from the previous part, solve the LLS problem using the QR factorization, withou ever forming the normal equations explicitly. For linear algebra, you can use standard library functions (look up `numpy.linalg.solve`, `numpy.linalg.qr` etc) or your code from previous weeks.\n",
        "\n",
        "Compare the results with the results of solving the normal system of equations.\n",
        "\n",
        "(20% of the grade)"
      ]
    },
    {
      "cell_type": "code",
      "metadata": {
        "collapsed": true,
        "id": "ikI6e5Uvp4eg",
        "colab": {
          "base_uri": "https://localhost:8080/",
          "height": 315
        },
        "outputId": "8ea0ea60-9e2a-4437-b067-5a442f470980"
      },
      "source": [
        "# ... ENTER YOUR CODE HERE ...\n",
        "\n",
        "import numpy as np\n",
        "import matplotlib.pyplot as plt\n",
        "\n",
        "x = [-1, -0.7, -0.43, -0.14, -0.14, 0.43, 0.71, 1, 1.29, 1.57, 1.86, 2.14, 2.43, 2.71, 3]\n",
        "y = [-2.25, -0.77, 0.21, 0.44, 0.64, 0.03, -0.22, -0.84, -1.2, -1.03, -0.37, 0.61, 2.67, 5.04, 8.90]\n",
        "\n",
        "#Pasamos los datos a Array de Numpy\n",
        "X, Y = np.array(x), np.array(y)\n",
        "\n",
        "#Creamos la matriz de coeficientes\n",
        "Xlen = len(X)\n",
        "unos = np.ones(Xlen)\n",
        "A = np.c_[unos, X]\n",
        "\n",
        "#Usando descompision QR\n",
        "q,r = np.linalg.qr(A)\n",
        "qt = np.transpose(q)\n",
        "qty = qt @ Y\n",
        "\n",
        "#Solucionando\n",
        "s = np.linalg.solve(r, qty)\n",
        "\n",
        "#Nos da como solucion s = [b, a]\n",
        "p = np.poly1d([s[1], s[0]])\n",
        "\n",
        "print(\" mx + b\")\n",
        "print(p)\n",
        "\n",
        "#Imprimimos\n",
        "plt.plot(X, Y, \"or\")\n",
        "x_plot = np.linspace(-1,3,100)\n",
        "plt.plot(x_plot, p(x_plot))\n",
        "plt.show()"
      ],
      "execution_count": 147,
      "outputs": [
        {
          "output_type": "stream",
          "text": [
            " mx + b\n",
            " \n",
            "1.465 x - 0.648\n"
          ],
          "name": "stdout"
        },
        {
          "output_type": "display_data",
          "data": {
            "image/png": "[encoded data removed]",
            "text/plain": [
              "<Figure size 432x288 with 1 Axes>"
            ]
          },
          "metadata": {
            "tags": [],
            "needs_background": "light"
          }
        }
      ]
    },
    {
      "cell_type": "markdown",
      "metadata": {
        "id": "JeKefrB7p4eg"
      },
      "source": [
        "# II. Lagrange interpolation"
      ]
    },
    {
      "cell_type": "markdown",
      "metadata": {
        "id": "qJ6NQEIUp4eg"
      },
      "source": [
        "### II.1 \n",
        "\n",
        "Consider the function, $f(x) = x^2 \\cos{x}$. On the interval $x\\in [\\pi/2, \\pi]$, interpolate the function using the Lagrange interpolating polynomial of degree $m$ with $m=1, 2, 3, 4, 5$. Use the uniform mesh. Plot the resulting interpolants together with $f(x)$.\n",
        "\n",
        "(20% of the total grade)"
      ]
    },
    {
      "cell_type": "code",
      "metadata": {
        "collapsed": true,
        "id": "zhNuMIYbp4eh",
        "colab": {
          "base_uri": "https://localhost:8080/",
          "height": 282
        },
        "outputId": "3c5415bf-5c07-4849-b58e-237b6e0bd590"
      },
      "source": [
        "# ... ENTER YOUR CODE HERE ...\n",
        "\n",
        "import numpy as np\n",
        "import math\n",
        "import sympy as sym\n",
        "import matplotlib.pyplot as plt\n",
        "\n",
        "#Creacion de puntos\n",
        "xi = np.array([((np.pi)/2),((105*np.pi)/180),((2*np.pi)/3),((3*np.pi)/4),((5*np.pi)/6),((165*np.pi)/180),(np.pi)])\n",
        "z = []\n",
        "for i in xi:\n",
        "  z.append((i**2) * math.cos(i) * i)\n",
        "yi = np.array(z)\n",
        "plt.plot(xi, yi, 'o')"
      ],
      "execution_count": 134,
      "outputs": [
        {
          "output_type": "execute_result",
          "data": {
            "text/plain": [
              "[<matplotlib.lines.Line2D at 0x7fd41659cf10>]"
            ]
          },
          "metadata": {
            "tags": []
          },
          "execution_count": 134
        },
        {
          "output_type": "display_data",
          "data": {
            "image/png": "[encoded data removed]",
            "text/plain": [
              "<Figure size 432x288 with 1 Axes>"
            ]
          },
          "metadata": {
            "tags": [],
            "needs_background": "light"
          }
        }
      ]
    },
    {
      "cell_type": "code",
      "metadata": {
        "colab": {
          "base_uri": "https://localhost:8080/",
          "height": 298
        },
        "id": "CBlqX0qiIptV",
        "outputId": "8a30ad14-1844-46ab-a6d5-ccdf72a3cc61"
      },
      "source": [
        "#With m = 1\n",
        "\n",
        "#n = len(xi)\n",
        "n = 1\n",
        "x = sym.Symbol('x')\n",
        "i = 0\n",
        "polinomio = 0\n",
        "\n",
        "#Terminos de Lagrange\n",
        "for i in range(0,n,1):\n",
        "  numerador = 1\n",
        "  denominador = 1\n",
        "  for j in range(0,n,1):\n",
        "    if i != j:\n",
        "      numerador *= x-xi[j]\n",
        "      denominador *= xi[i]-xi[j]\n",
        "    termino = (numerador/denominador)*yi[i]\n",
        "  polinomio += termino\n",
        "polisimple = sym.expand(polinomio)\n",
        "\n",
        "print(polinomio)\n",
        "print(polisimple)\n",
        "\n",
        "px = sym.lambdify(x,polinomio)\n",
        "p_xi = np.linspace(np.max(xi), np.min(xi), 1)\n",
        "pfi = px(p_xi)\n",
        "\n",
        "plt.plot(xi, yi, 'or')\n",
        "plt.plot(p_xi, pfi)\n",
        "plt.show()"
      ],
      "execution_count": 135,
      "outputs": [
        {
          "output_type": "stream",
          "text": [
            "2.3732335931253993e-16\n",
            "2.37323359312540e-16\n"
          ],
          "name": "stdout"
        },
        {
          "output_type": "display_data",
          "data": {
            "image/png": "[encoded data removed]",
            "text/plain": [
              "<Figure size 432x288 with 1 Axes>"
            ]
          },
          "metadata": {
            "tags": [],
            "needs_background": "light"
          }
        }
      ]
    },
    {
      "cell_type": "code",
      "metadata": {
        "colab": {
          "base_uri": "https://localhost:8080/",
          "height": 298
        },
        "id": "tLvXwUV8OWnf",
        "outputId": "e0f33c25-149a-4429-bd4b-4f79eecc4c02"
      },
      "source": [
        "#with m = 2\n",
        "\n",
        "#n = len(xi)\n",
        "n = 2\n",
        "x = sym.Symbol('x')\n",
        "i = 0\n",
        "polinomio = 0\n",
        "\n",
        "#Terminos de Lagrange\n",
        "for i in range(0,n,1):\n",
        "  numerador = 1\n",
        "  denominador = 1\n",
        "  for j in range(0,n,1):\n",
        "    if i != j:\n",
        "      numerador *= x-xi[j]\n",
        "      denominador *= xi[i]-xi[j]\n",
        "    termino = (numerador/denominador)*yi[i]\n",
        "  polinomio += termino\n",
        "polisimple = sym.expand(polinomio)\n",
        "\n",
        "print(polinomio)\n",
        "print(polisimple)\n",
        "\n",
        "px = sym.lambdify(x,polinomio)\n",
        "p_xi = np.linspace(np.max(xi), np.min(xi), 100)\n",
        "pfi = px(p_xi)\n",
        "\n",
        "plt.plot(xi, yi, 'or')\n",
        "plt.plot(p_xi, pfi)\n",
        "plt.show()"
      ],
      "execution_count": 136,
      "outputs": [
        {
          "output_type": "stream",
          "text": [
            "9.55756985571131 - 6.08453794593019*x\n",
            "9.55756985571131 - 6.08453794593019*x\n"
          ],
          "name": "stdout"
        },
        {
          "output_type": "display_data",
          "data": {
            "image/png": "[encoded data removed]",
            "text/plain": [
              "<Figure size 432x288 with 1 Axes>"
            ]
          },
          "metadata": {
            "tags": [],
            "needs_background": "light"
          }
        }
      ]
    },
    {
      "cell_type": "code",
      "metadata": {
        "colab": {
          "base_uri": "https://localhost:8080/",
          "height": 318
        },
        "id": "QgbAIsYEOelr",
        "outputId": "45543696-ff9d-4c7a-f924-0b5552e91dd8"
      },
      "source": [
        "#with m = 3\n",
        "\n",
        "#n = len(xi)\n",
        "n = 3\n",
        "x = sym.Symbol('x')\n",
        "i = 0\n",
        "polinomio = 0\n",
        "\n",
        "#Terminos de Lagrange\n",
        "for i in range(0,n,1):\n",
        "  numerador = 1\n",
        "  denominador = 1\n",
        "  for j in range(0,n,1):\n",
        "    if i != j:\n",
        "      numerador *= x-xi[j]\n",
        "      denominador *= xi[i]-xi[j]\n",
        "    termino = (numerador/denominador)*yi[i]\n",
        "  polinomio += termino\n",
        "polisimple = sym.expand(polinomio)\n",
        "\n",
        "print(polinomio)\n",
        "print(polisimple)\n",
        "\n",
        "px = sym.lambdify(x,polinomio)\n",
        "p_xi = np.linspace(np.max(xi), np.min(xi), 100)\n",
        "pfi = px(p_xi)\n",
        "\n",
        "plt.plot(xi, yi, 'or')\n",
        "plt.plot(p_xi, pfi)\n",
        "plt.show()"
      ],
      "execution_count": 137,
      "outputs": [
        {
          "output_type": "stream",
          "text": [
            "1.73130362434961e-15*(x - 2.0943951023932)*(x - 1.83259571459405) + 23.2412229726*(x - 2.0943951023932)*(x - 1.5707963267949) - 33.5103216382911*(x - 1.83259571459405)*(x - 1.5707963267949)\n",
            "-10.2690986656912*x**2 + 28.865230725121*x - 20.0034130485756\n"
          ],
          "name": "stdout"
        },
        {
          "output_type": "display_data",
          "data": {
            "image/png": "[encoded data removed]",
            "text/plain": [
              "<Figure size 432x288 with 1 Axes>"
            ]
          },
          "metadata": {
            "tags": [],
            "needs_background": "light"
          }
        }
      ]
    },
    {
      "cell_type": "code",
      "metadata": {
        "colab": {
          "base_uri": "https://localhost:8080/",
          "height": 318
        },
        "id": "q0MbEZ5-OnAF",
        "outputId": "8f382f20-74ae-4cd6-e138-f5ced48a37e5"
      },
      "source": [
        "#with m = 4\n",
        "\n",
        "#n = len(xi)\n",
        "n = 4\n",
        "x = sym.Symbol('x')\n",
        "i = 0\n",
        "polinomio = 0\n",
        "\n",
        "#Terminos de Lagrange\n",
        "for i in range(0,n,1):\n",
        "  numerador = 1\n",
        "  denominador = 1\n",
        "  for j in range(0,n,1):\n",
        "    if i != j:\n",
        "      numerador *= x-xi[j]\n",
        "      denominador *= xi[i]-xi[j]\n",
        "    termino = (numerador/denominador)*yi[i]\n",
        "  polinomio += termino\n",
        "polisimple = sym.expand(polinomio)\n",
        "\n",
        "print(polinomio)\n",
        "print(polisimple)\n",
        "\n",
        "px = sym.lambdify(x,polinomio)\n",
        "p_xi = np.linspace(np.max(xi), np.min(xi), 100)\n",
        "pfi = px(p_xi)\n",
        "\n",
        "plt.plot(xi, yi, 'or')\n",
        "plt.plot(p_xi, pfi)\n",
        "plt.show()"
      ],
      "execution_count": 138,
      "outputs": [
        {
          "output_type": "stream",
          "text": [
            "-2.20436423846524e-15*(x - 2.35619449019234)*(x - 2.0943951023932)*(x - 1.83259571459405) - 44.3874662350824*(x - 2.35619449019234)*(x - 2.0943951023932)*(x - 1.5707963267949) + 128.0*(x - 2.35619449019234)*(x - 1.83259571459405)*(x - 1.5707963267949) - 85.9134739141655*(x - 2.0943951023932)*(x - 1.83259571459405)*(x - 1.5707963267949)\n",
            "-2.30094014924784*x**3 + 2.38098050545574*x**2 + 5.84045379835527*x - 6.13104893061131\n"
          ],
          "name": "stdout"
        },
        {
          "output_type": "display_data",
          "data": {
            "image/png": "[encoded data removed]",
            "text/plain": [
              "<Figure size 432x288 with 1 Axes>"
            ]
          },
          "metadata": {
            "tags": [],
            "needs_background": "light"
          }
        }
      ]
    },
    {
      "cell_type": "code",
      "metadata": {
        "colab": {
          "base_uri": "https://localhost:8080/",
          "height": 318
        },
        "id": "79HGd_30PDuo",
        "outputId": "1a5edd0c-5cb4-4b2d-de2b-5eeac7670ef2"
      },
      "source": [
        "#with m = 5\n",
        "\n",
        "#n = len(xi)\n",
        "n = 5\n",
        "x = sym.Symbol('x')\n",
        "i = 0\n",
        "polinomio = 0\n",
        "\n",
        "#Terminos de Lagrange\n",
        "for i in range(0,n,1):\n",
        "  numerador = 1\n",
        "  denominador = 1\n",
        "  for j in range(0,n,1):\n",
        "    if i != j:\n",
        "      numerador *= x-xi[j]\n",
        "      denominador *= xi[i]-xi[j]\n",
        "    termino = (numerador/denominador)*yi[i]\n",
        "  polinomio += termino\n",
        "polisimple = sym.expand(polinomio)\n",
        "\n",
        "print(polinomio)\n",
        "print(polisimple)\n",
        "\n",
        "px = sym.lambdify(x,polinomio)\n",
        "p_xi = np.linspace(np.max(xi), np.min(xi), 100)\n",
        "pfi = px(p_xi)\n",
        "\n",
        "plt.plot(xi, yi, 'or')\n",
        "plt.plot(p_xi, pfi)\n",
        "plt.show()"
      ],
      "execution_count": 139,
      "outputs": [
        {
          "output_type": "stream",
          "text": [
            "2.10501278956046e-15*(x - 2.61799387799149)*(x - 2.35619449019234)*(x - 2.0943951023932)*(x - 1.83259571459405) + 56.5158773011037*(x - 2.61799387799149)*(x - 2.35619449019234)*(x - 2.0943951023932)*(x - 1.5707963267949) - 244.461992589151*(x - 2.61799387799149)*(x - 2.35619449019234)*(x - 1.83259571459405)*(x - 1.5707963267949) + 328.165297239265*(x - 2.61799387799149)*(x - 2.0943951023932)*(x - 1.83259571459405)*(x - 1.5707963267949) - 137.832223855448*(x - 2.35619449019234)*(x - 2.0943951023932)*(x - 1.83259571459405)*(x - 1.5707963267949)\n",
            "2.3869580957695*x**4 - 21.0480651944877*x**3 + 57.1868226069801*x**2 - 64.8294693404332*x + 27.776866259308\n"
          ],
          "name": "stdout"
        },
        {
          "output_type": "display_data",
          "data": {
            "image/png": "[encoded data removed]",
            "text/plain": [
              "<Figure size 432x288 with 1 Axes>"
            ]
          },
          "metadata": {
            "tags": [],
            "needs_background": "light"
          }
        }
      ]
    },
    {
      "cell_type": "code",
      "metadata": {
        "colab": {
          "base_uri": "https://localhost:8080/",
          "height": 318
        },
        "id": "ogdHSigbR35G",
        "outputId": "c0a56306-476e-4b8a-eddb-9f5824a78c96"
      },
      "source": [
        "#with m = len(xi)\n",
        "\n",
        "n = len(xi)\n",
        "x = sym.Symbol('x')\n",
        "i = 0\n",
        "polinomio = 0\n",
        "\n",
        "#Terminos de Lagrange\n",
        "for i in range(0,n,1):\n",
        "  numerador = 1\n",
        "  denominador = 1\n",
        "  for j in range(0,n,1):\n",
        "    if i != j:\n",
        "      numerador *= x-xi[j]\n",
        "      denominador *= xi[i]-xi[j]\n",
        "    termino = (numerador/denominador)*yi[i]\n",
        "  polinomio += termino\n",
        "polisimple = sym.expand(polinomio)\n",
        "\n",
        "print(polinomio)\n",
        "print(polisimple)\n",
        "\n",
        "px = sym.lambdify(x,polinomio)\n",
        "p_xi = np.linspace(np.max(xi), np.min(xi), 100)\n",
        "pfi = px(p_xi)\n",
        "\n",
        "plt.plot(xi, yi, 'or')\n",
        "plt.plot(p_xi, pfi)\n",
        "plt.show()"
      ],
      "execution_count": 149,
      "outputs": [
        {
          "output_type": "stream",
          "text": [
            "1.02375545961852e-15*(x - 3.14159265358979)*(x - 2.87979326579064)*(x - 2.61799387799149)*(x - 2.35619449019234)*(x - 2.0943951023932)*(x - 1.83259571459405) + 41.2290401956773*(x - 3.14159265358979)*(x - 2.87979326579064)*(x - 2.61799387799149)*(x - 2.35619449019234)*(x - 2.0943951023932)*(x - 1.5707963267949) - 297.230141336366*(x - 3.14159265358979)*(x - 2.87979326579064)*(x - 2.61799387799149)*(x - 2.35619449019234)*(x - 1.83259571459405)*(x - 1.5707963267949) + 798.002312318926*(x - 3.14159265358979)*(x - 2.87979326579064)*(x - 2.61799387799149)*(x - 2.0943951023932)*(x - 1.83259571459405)*(x - 1.5707963267949) - 1005.50333268646*(x - 3.14159265358979)*(x - 2.87979326579064)*(x - 2.35619449019234)*(x - 2.0943951023932)*(x - 1.83259571459405)*(x - 1.5707963267949) + 597.083001866827*(x - 3.14159265358979)*(x - 2.61799387799149)*(x - 2.35619449019234)*(x - 2.0943951023932)*(x - 1.83259571459405)*(x - 1.5707963267949) - 133.753563601365*(x - 2.87979326579064)*(x - 2.61799387799149)*(x - 2.35619449019234)*(x - 2.0943951023932)*(x - 1.83259571459405)*(x - 1.5707963267949)\n",
            "-0.172683242756307*x**6 + 3.01041448288197*x**5 - 17.7167490841821*x**4 + 46.7617718446418*x**3 - 66.4982042748597*x**2 + 51.8420952208689*x - 16.928351731447\n"
          ],
          "name": "stdout"
        },
        {
          "output_type": "display_data",
          "data": {
            "image/png": "[encoded data removed]",
            "text/plain": [
              "<Figure size 432x288 with 1 Axes>"
            ]
          },
          "metadata": {
            "tags": [],
            "needs_background": "light"
          }
        }
      ]
    },
    {
      "cell_type": "markdown",
      "metadata": {
        "id": "k-VuOvgvp4eh"
      },
      "source": [
        "### II.2. \n",
        "\n",
        "Repeat the previous task using the Chebyshev nodes. Compare the quality of interpolation on a uniform mesh and Chebyshev nodes for $m=3$.\n",
        "\n",
        "(20% of the total grade)"
      ]
    },
    {
      "cell_type": "code",
      "metadata": {
        "collapsed": true,
        "id": "hAUCDLggp4eh"
      },
      "source": [
        "# ... ENTER YOUR CODE HERE ..."
      ],
      "execution_count": 163,
      "outputs": []
    }
  ]
}